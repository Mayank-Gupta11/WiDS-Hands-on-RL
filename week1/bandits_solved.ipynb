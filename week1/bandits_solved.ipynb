{
  "cells": [
    {
      "cell_type": "code",
      "execution_count": 20,
      "metadata": {
        "id": "2Y9NoLCk8ENw"
      },
      "outputs": [],
      "source": [
        "import numpy as np \n",
        "import math \n",
        "import matplotlib.pyplot as plt \n",
        "# from bandits import bandit\n",
        "from multiprocessing import Pool\n",
        "from random import random, randint\n"
      ]
    },
    {
      "cell_type": "code",
      "source": [
        "class bandit_arm:\n",
        "    \"\"\"\n",
        "    Creates an arm which is a part of a bandit instance.\n",
        "    \"\"\"\n",
        "    def __init__(self,arm_mean):\n",
        "        self.arm_mean = arm_mean \n",
        "\n",
        "    def pull(self):\n",
        "        return np.random.binomial(1,self.arm_mean)\n",
        "    \n",
        "\n",
        "class bandit:\n",
        "    \"\"\"\n",
        "    Creates a (Bernoulli) bandit instance, which is fully specified by a list of arm means. \n",
        "    Functions:\n",
        "        - pull(index) pulls the arm referred to by the index \n",
        "        - regret() provides the incurred regret on the bandit instance \n",
        "\n",
        "    NOTE: You cannot use the list of probabilities while running your algorithm! That is the whole point -- to determine those probabilities by interacting with the bandit instance again and again \"efficiently\".\n",
        "    \"\"\"\n",
        "    def __init__(self,list_of_means):\n",
        "        self.arms = [bandit_arm(prob) for prob in list_of_means]\n",
        "        self.max_mean = max(list_of_means)\n",
        "        self.regret = 0.0 \n",
        "        self.count = 0 \n",
        "        self.avg_reward = 0.0\n",
        "\n",
        "    def pull(self,index):\n",
        "        reward = self.arms[index].pull()\n",
        "        self.regret = self.regret + (self.max_mean - reward)\n",
        "        self.count += 1 \n",
        "        if(self.count > 1):\n",
        "            self.avg_reward = (self.avg_reward*(self.count - 1) + reward)/(self.count)\n",
        "        elif(self.count == 1):\n",
        "            self.avg_reward = reward\n",
        "        return reward \n",
        "\n",
        "    def regret(self):\n",
        "        return self.regret \n",
        "    \n",
        "    def avg_reward(self):\n",
        "        return self.avg_reward\n"
      ],
      "metadata": {
        "id": "V7blPyVjSyjw"
      },
      "execution_count": 19,
      "outputs": []
    },
    {
      "cell_type": "code",
      "execution_count": 21,
      "metadata": {
        "id": "W-1TS5yO8ENy"
      },
      "outputs": [],
      "source": [
        "class Algorithm:\n",
        "    def __init__(self, num_arms):\n",
        "        self.num_arms = num_arms\n",
        "    \n",
        "    def give_pull(self):\n",
        "        raise NotImplementedError\n",
        "    \n",
        "    def get_reward(self, arm_index, reward):\n",
        "        raise NotImplementedError"
      ]
    },
    {
      "cell_type": "markdown",
      "metadata": {
        "id": "Kjlyr8IQ8ENz"
      },
      "source": [
        "## $\\epsilon$-greedy algorithms\n",
        "\n",
        "There are different variants of $\\epsilon$-greedy algorithms, which illustrate the ideas of exploration and exploitation in reinforcement learning. Here, you are to implement an algorithm which explores with probability $\\epsilon$ and exploits with probability $1-\\epsilon$. Wherein, exploration means uniformly sampling from the list of arms, and exploitation is the act of sampling the arm with the highest empirical mean. \n",
        "\n",
        "The algorithm needs to be implemented as a class which has three functions: \n",
        "- Initialization: Initialize all the data structures (including your $\\epsilon$) here. \n",
        "- Pull: Return the index of the arm that needs to be pulled as per this algorithm. \n",
        "- Get reward: The bandit instance will tell you the reward -- this function needs to update the internal data structures of the algorithm so as to process that reward."
      ]
    },
    {
      "cell_type": "code",
      "execution_count": 33,
      "metadata": {
        "id": "TWMFEF_c8EN0"
      },
      "outputs": [],
      "source": [
        "# Implement the epsilon greedy algorithm \n",
        "# as a child class of the Algorithm class\n",
        "class eps_greedy(Algorithm):\n",
        "    def __init__(self,num_arms):\n",
        "        super().__init__(num_arms)\n",
        "        self.epsilon=0.5\n",
        "        self.num_arms=num_arms\n",
        "        self.rewards=np.zeros(num_arms)  #List storing the average rewards\n",
        "        self.k=np.zeros(num_arms) #List storing the counter variable k, for calculating Qk or Q(k+1)\n",
        "        \n",
        "\n",
        "    def give_pull(self):\n",
        "        # write the code to give a pull via the epsilon greedy algo \n",
        "        probab=random()\n",
        "        if probab<=self.epsilon:\n",
        "            # at=int(probab//(self.epsilon/self.num_arms))\n",
        "            at= randint(0,self.num_arms-1)\n",
        "            # self.epsilon=(1-self.epsilon)/2\n",
        "        else:\n",
        "            # avg_mean=np.zeros(self.num_arms)\n",
        "            # for bandit in range(self.num_arms):\n",
        "            #   if self.k[bandit]:\n",
        "            #     avg_mean[bandit]=self.rewards[bandit]/self.k[bandit]\n",
        "                \n",
        "            #   else:\n",
        "            #     avg_mean[bandit]=0\n",
        "            at=np.argmax(avg_mean)\n",
        "            # self.epsilon=(1+self.epsilon)/2\n",
        "            \n",
        "        return at\n",
        "    \n",
        "    def get_reward(self,arm_index,reward):\n",
        "        # update the data structures based on the reward received\n",
        "        self.k[arm_index]+=1\n",
        "        \n",
        "        self.rewards[arm_index]+=(reward-self.rewards[arm_index])/self.k[arm_index] #Assigning the value of Q(k+1) \n",
        "        # self.rewards[arm_index]+=rewards\n",
        "        \n",
        "        "
      ]
    },
    {
      "cell_type": "markdown",
      "metadata": {
        "id": "B4AQ5t2v8EN1"
      },
      "source": [
        "## UCB Algorithm\n",
        "\n",
        "Read about the UCB algorithm from Sutton and Barto, and implement it in the exact same format as the previous one. The operation to be performed is, \n",
        "\n",
        "$$a_t := \\argmax_{a\\in A}(q_t(a) + 3\\sqrt{\\frac{ln(t)}{N_t(a)}})$$"
      ]
    },
    {
      "cell_type": "code",
      "execution_count": 23,
      "metadata": {
        "id": "3u6teRzs8EN1"
      },
      "outputs": [],
      "source": [
        "# Implement the UCB algorithm\n",
        "class UCB(Algorithm):\n",
        "    def __init__(self, num_arms):\n",
        "        super().__init__(num_arms)\n",
        "        self.num_arms=num_arms\n",
        "        self.Nta=np.zeros(self.num_arms)\n",
        "        self.Qta=np.zeros(self.num_arms)\n",
        "        # write the necessary data structures here\n",
        "    \n",
        "    def give_pull(self):\n",
        "        # write the code to give a pull via the epsilon greedy algo \n",
        "        at=np.argmax([self.Qta[bandit]+3*np.sqrt(bandit/self.Nta[bandit]) for bandit in range(self.num_arms)])\n",
        "        return at\n",
        "    \n",
        "    def get_reward(self,index,reward):\n",
        "        # update the data structures based on the reward received\n",
        "        self.Qta[index]+=(reward-self.Qta[index])/self.num_arms\n",
        "        self.Nta[index]+=1\n",
        "        "
      ]
    },
    {
      "cell_type": "markdown",
      "metadata": {
        "id": "A6_lydDW8EN2"
      },
      "source": [
        "## Thompson Sampling\n",
        "\n",
        "This is another algorithm for sampling/pulling a MAB. Here, a list of successes ($s_t(a)$) and failures ($f_t(a)$) of the arms is maintained, and then the following samples are drawn for each arm, \n",
        "\n",
        "$$n_t(a) \\sim \\beta(s_t(a) +1,f_t(a)+1)$$\n",
        "\n",
        "where $\\beta$ denote the Beta Distribution. Then, the arm with the highest value of such a sample is chosen. That is, \n",
        " \n",
        "$$a_t := \\argmax_{a\\in A}n_t(a)$$\n",
        "\n",
        "In the background, a _bayesian_ update is happening, which ensures that this algorithm works well. \n",
        "\n",
        "The code for this algorithm is already written, and you can use this as a reference for the structure of the other two."
      ]
    },
    {
      "cell_type": "code",
      "execution_count": 24,
      "metadata": {
        "id": "WmM-2O7r8EN2"
      },
      "outputs": [],
      "source": [
        "class Thompson_Sampling(Algorithm):\n",
        "    def __init__(self, num_arms):\n",
        "        super().__init__(num_arms)\n",
        "        #we write the required data structures for this algorithms\n",
        "        self.successes = np.zeros(num_arms)\n",
        "        self.failures = np.zeros(num_arms)\n",
        "    \n",
        "    def give_pull(self):\n",
        "        # we give a rule according to the algorithm to sample the bandit instance\n",
        "        beta = [np.random.beta(self.successes[bandit]+1,self.failures[bandit] +1) for bandit in range(self.num_arms)]\n",
        "        return np.argmax(beta)\n",
        "    \n",
        "    def get_reward(self, arm_index, reward):\n",
        "        # we update the data structures as we see the reward received\n",
        "        self.successes[arm_index] += reward\n",
        "        self.failures[arm_index] += (1-reward)\n"
      ]
    },
    {
      "cell_type": "markdown",
      "metadata": {
        "id": "rPCyWDRW8EN3"
      },
      "source": [
        "## Analysis\n",
        "\n",
        "Here, code for the analysis of the thompson algorithm is written. Mainly, we use the _regret_ for analyzing the performance of an algorithm. The (expected cumulative) regret is the difference between the maximum possible reward and the expected reward from the algorithm. That is, \n",
        "\n",
        "$$R(T) := Tp^* - \\sum_{t=0}^{T-1}\\mathbb{E}(r_t)$$\n",
        "\n",
        "where, $r_t$ is the reward at time $t\\in\\{0,1,...T-1\\}$. \n",
        "\n",
        "We say that an algorithm here is 'good' if the regret is sub-linear, that is, \n",
        "$$\\lim_{T\\to\\infty}\\frac{R(T)}{T} = 0$$\n",
        "\n",
        "The regret plots, along with the average reward plots for Thompson sampling are given below. Do the same for the other algorithms and compare."
      ]
    },
    {
      "cell_type": "code",
      "execution_count": 25,
      "metadata": {
        "id": "01UuTVKB8EN3"
      },
      "outputs": [],
      "source": [
        "#no need to modify anything here\n",
        "def plot_avg_reward(algo,horizon,averaging=100):\n",
        "    average_reward = np.zeros(horizon)\n",
        "    for j in range(averaging):\n",
        "        np.random.seed(0)\n",
        "        bandit_instance = bandit([0.2,0.1,0.6,0.1]) # use this bandit instance only\n",
        "        thompson_instance = algo(4) # do this for the other two algorithms as well\n",
        "        rewards = [] \n",
        "        for i in range(horizon):\n",
        "            arm_to_pull = thompson_instance.give_pull() #get the arm to pull _From the ALGORITHM_\n",
        "            reward = bandit_instance.pull(arm_to_pull) #get the (stochastic) reward _from the BANDIT INSTANCE_\n",
        "            thompson_instance.get_reward(arm_to_pull,reward) #update the internal data structures of the algorithm\n",
        "            rewards.append(bandit_instance.avg_reward)\n",
        "        average_reward = average_reward + rewards\n",
        "\n",
        "\n",
        "    average_reward = average_reward/averaging \n",
        "\n",
        "    plt.plot(average_reward)\n",
        "    plt.title(\"Average Reward\")"
      ]
    },
    {
      "cell_type": "code",
      "execution_count": 34,
      "metadata": {
        "colab": {
          "base_uri": "https://localhost:8080/",
          "height": 298
        },
        "id": "VMYr819E8EN3",
        "outputId": "b5af5dcc-015f-4c3d-b4ee-b57edc112d9d"
      },
      "outputs": [
        {
          "output_type": "execute_result",
          "data": {
            "text/plain": [
              "<matplotlib.legend.Legend at 0x7f587a144d30>"
            ]
          },
          "metadata": {},
          "execution_count": 34
        },
        {
          "output_type": "display_data",
          "data": {
            "text/plain": [
              "<Figure size 432x288 with 1 Axes>"
            ],
            "image/png": "[encoded data removed]"
          },
          "metadata": {
            "needs_background": "light"
          }
        }
      ],
      "source": [
        "plot_avg_reward(Thompson_Sampling,1000)\n",
        "plot_avg_reward(eps_greedy,1000)\n",
        "plt.legend([\"Thomspon\",\"e-greedy\"])"
      ]
    },
    {
      "cell_type": "code",
      "execution_count": 27,
      "metadata": {
        "id": "gcR4VK098EN4"
      },
      "outputs": [],
      "source": [
        "#no need to modify anything here\n",
        "def single_sim(algo, list_of_means, horizon):\n",
        "    np.random.seed(0)\n",
        "    bandit_instance = bandit(list_of_means=list_of_means)\n",
        "    algo_inst = algo(num_arms=len(list_of_means))\n",
        "    for t in range(horizon):\n",
        "      arm_to_be_pulled = algo_inst.give_pull()\n",
        "      reward = bandit_instance.pull(arm_to_be_pulled)\n",
        "      algo_inst.get_reward(arm_index=arm_to_be_pulled, reward=reward)\n",
        "    return bandit_instance.regret\n",
        "\n",
        "def simulate(algorithm, probs, horizon, num_sims=50):\n",
        "\n",
        "    def multiple_sims(num_sims=50):\n",
        "      with Pool(10) as pool:\n",
        "        regrets = pool.starmap(single_sim,\n",
        "          [(algorithm, probs, horizon) for i in range(num_sims)])\n",
        "      return regrets\n",
        "\n",
        "    return np.mean(multiple_sims(num_sims))\n",
        "def plot_regret(algo,list_of_means):  \n",
        "  horizons = [2**i for i in range(10, 18)]\n",
        "  regrets = []\n",
        "  for horizon in horizons:\n",
        "    regrets.append(simulate(algo, list_of_means, horizon, 20))\n",
        "\n",
        "  print(regrets)\n",
        "  plt.plot(horizons, regrets)\n",
        "  plt.title(\"Regret vs Horizon\")"
      ]
    },
    {
      "cell_type": "code",
      "execution_count": 36,
      "metadata": {
        "colab": {
          "base_uri": "https://localhost:8080/",
          "height": 333
        },
        "id": "g9krXcBt8EN5",
        "outputId": "ae5de725-3676-4395-c009-b1288ce1fcc0"
      },
      "outputs": [
        {
          "output_type": "stream",
          "name": "stdout",
          "text": [
            "[-31.599999999999575, -38.19999999999812, -22.39999999999521, -43.79999999999207, -2.5999999999887473, 60.79999999999067, 129.599999999909, 307.2000000005104]\n",
            "[200.49999999999628, 416.95000000001147, 809.6000000000583, 1616.2499999998147, 3172.5499999990666, 6441.950000002967, 12994.250000014876, 26266.049999949988]\n"
          ]
        },
        {
          "output_type": "execute_result",
          "data": {
            "text/plain": [
              "<matplotlib.legend.Legend at 0x7f5879f08460>"
            ]
          },
          "metadata": {},
          "execution_count": 36
        },
        {
          "output_type": "display_data",
          "data": {
            "text/plain": [
              "<Figure size 432x288 with 1 Axes>"
            ],
            "image/png": "[encoded data removed]"
          },
          "metadata": {
            "needs_background": "light"
          }
        }
      ],
      "source": [
        "plot_regret(Thompson_Sampling,[0.2,0.1,0.6,0.1])\n",
        "plot_regret(eps_greedy,[0.2,0.1,0.6,0.1])\n",
        "plt.legend([\"Thomspon\",\"e-greedy\"]) "
      ]
    },
    {
      "cell_type": "code",
      "execution_count": 28,
      "metadata": {
        "id": "mC6Qro9C8EN5"
      },
      "outputs": [],
      "source": []
    }
  ],
  "metadata": {
    "kernelspec": {
      "display_name": "Python 3 (ipykernel)",
      "language": "python",
      "name": "python3"
    },
    "language_info": {
      "codemirror_mode": {
        "name": "ipython",
        "version": 3
      },
      "file_extension": ".py",
      "mimetype": "text/x-python",
      "name": "python",
      "nbconvert_exporter": "python",
      "pygments_lexer": "ipython3",
      "version": "3.8.8"
    },
    "vscode": {
      "interpreter": {
        "hash": "e7370f93d1d0cde622a1f8e1c04877d8463912d04d973331ad4851f04de6915a"
      }
    },
    "colab": {
      "provenance": []
    }
  },
  "nbformat": 4,
  "nbformat_minor": 0
}