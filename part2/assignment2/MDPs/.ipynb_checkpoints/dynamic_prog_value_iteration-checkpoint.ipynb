{
 "cells": [
  {
   "cell_type": "code",
   "execution_count": 1,
   "id": "3e694036",
   "metadata": {},
   "outputs": [],
   "source": [
    "#Function to store input data in a list of dictionaries\n",
    "def inp(mdp_data, n_states, n_actions):\n",
    "    transitions=[]\n",
    "    for i in range(2, len(mdp_data)-1):\n",
    "        line=mdp_data[i]\n",
    "        line=line.split()\n",
    "        tr_data={}\n",
    "        tr_data[\"initial_state\"]=int(line[1])\n",
    "        tr_data[\"action_taken\"]=int(line[2])\n",
    "        tr_data[\"final_state\"]=int(line[3])\n",
    "        tr_data[\"reward\"]=float(line[4])\n",
    "        tr_data[\"transition_probability\"]=float(line[5])\n",
    "\n",
    "        transitions.append(tr_data)\n",
    "    return transitions\n"
   ]
  },
  {
   "cell_type": "code",
   "execution_count": 2,
   "id": "b608d54c",
   "metadata": {},
   "outputs": [],
   "source": [
    "#Function for value iteration\n",
    "def reward(transitions, n_states, n_actions, gamma):\n",
    "    vts=[0]*n_states #to store Vt for all the states\n",
    "    opt_action=[0]*n_states #optimal action for all the states\n",
    "    end_flag=[0]*n_states\n",
    "    end_flag_check=[1]*n_states\n",
    "    # ite=0\n",
    "\n",
    "    while end_flag!=end_flag_check:\n",
    "        # ite+=1\n",
    "\n",
    "        for curr_state in range(n_states): #Loop for s\n",
    "\n",
    "            # print(vt)\n",
    "            val_action=[0]*n_actions\n",
    "            act=[0]*n_actions\n",
    "            for action in range(n_actions):\n",
    "\n",
    "                for dic in transitions:\n",
    "                    if (dic[\"initial_state\"]==curr_state and dic[\"action_taken\"]==action):\n",
    "                        #Using bellman's formula\n",
    "                        val_action[action]+=dic[\"transition_probability\"]*(dic[\"reward\"]+gamma*vts[dic[\"final_state\"]])\n",
    "                        act[action]=dic[\"action_taken\"]\n",
    "\n",
    "            vt1=max(val_action) #Finding for max action\n",
    "            opt_action[curr_state]=act[val_action.index(vt1)] #optimal action\n",
    "            if (vts[curr_state]==vt1): #chnaging flag to end the loop when consecutive Vt become equal\n",
    "                end_flag[curr_state]=1\n",
    "            vts[curr_state]=vt1\n",
    "    # print(ite)\n",
    "    for i in range(n_states):\n",
    "        print(vts[i], opt_action[i])\n"
   ]
  },
  {
   "cell_type": "code",
   "execution_count": 3,
   "id": "d1e5515a",
   "metadata": {},
   "outputs": [
    {
     "name": "stdout",
     "output_type": "stream",
     "text": [
      "5.999299519882267 0\n",
      "5.918449833766555 0\n"
     ]
    }
   ],
   "source": [
    "mdp=open(\"mdp-2-2.txt\",\"r\") #first file\n",
    "mdp_data=mdp.readlines()\n",
    "# print(len(mdp1_data))\n",
    "\n",
    "n_states=int((mdp_data[0].split())[1])\n",
    "# print(n_states)\n",
    "n_actions=int((mdp_data[1].split())[1])\n",
    "# print(n_actions)\n",
    "gamma=float((mdp_data[-1].split())[-1])\n",
    "# print(gamma)\n",
    "transitions=inp(mdp_data, n_states, n_actions) #The input\n",
    "reward(transitions, n_states, n_actions, gamma)"
   ]
  },
  {
   "cell_type": "code",
   "execution_count": 4,
   "id": "e8dae10f",
   "metadata": {},
   "outputs": [
    {
     "name": "stdout",
     "output_type": "stream",
     "text": [
      "2.2349580288968185 3\n",
      "2.373611791046379 3\n",
      "2.604046137436638 3\n",
      "2.6477837393414396 1\n",
      "2.522230595029415 4\n",
      "2.375251819808396 0\n",
      "2.684805585717799 2\n",
      "2.688309791526871 0\n",
      "2.640808678873456 3\n",
      "2.5724269001577316 1\n"
     ]
    }
   ],
   "source": [
    "mdp=open(\"mdp-10-5.txt\",\"r\") #second file\n",
    "mdp_data=mdp.readlines()\n",
    "# print(len(mdp1_data))\n",
    "\n",
    "n_states=int((mdp_data[0].split())[1])\n",
    "# print(n_states)\n",
    "n_actions=int((mdp_data[1].split())[1])\n",
    "# print(n_actions)\n",
    "gamma=float((mdp_data[-1].split())[-1])\n",
    "# print(gamma)\n",
    "transitions=inp(mdp_data, n_states, n_actions)\n",
    "reward(transitions, n_states, n_actions, gamma)"
   ]
  }
 ],
 "metadata": {
  "kernelspec": {
   "display_name": "Python 3 (ipykernel)",
   "language": "python",
   "name": "python3"
  },
  "language_info": {
   "codemirror_mode": {
    "name": "ipython",
    "version": 3
   },
   "file_extension": ".py",
   "mimetype": "text/x-python",
   "name": "python",
   "nbconvert_exporter": "python",
   "pygments_lexer": "ipython3",
   "version": "3.8.8"
  }
 },
 "nbformat": 4,
 "nbformat_minor": 5
}
